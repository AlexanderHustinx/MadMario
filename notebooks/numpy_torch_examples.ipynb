{
  "nbformat": 4,
  "nbformat_minor": 0,
  "metadata": {
    "colab": {
      "name": "numpy_torch_examples.ipynb",
      "provenance": [],
      "collapsed_sections": [],
      "machine_shape": "hm",
      "include_colab_link": true
    },
    "kernelspec": {
      "name": "python3",
      "display_name": "Python 3"
    }
  },
  "cells": [
    {
      "cell_type": "markdown",
      "metadata": {
        "id": "view-in-github",
        "colab_type": "text"
      },
      "source": [
        "<a href=\"https://colab.research.google.com/github/YuansongFeng/MadMario/blob/master/numpy_torch_examples.ipynb\" target=\"_parent\"><img src=\"https://colab.research.google.com/assets/colab-badge.svg\" alt=\"Open In Colab\"/></a>"
      ]
    },
    {
      "cell_type": "markdown",
      "metadata": {
        "id": "yhhV_Sxk2FSQ",
        "colab_type": "text"
      },
      "source": [
        "###    Get familiar with torch.tensor:"
      ]
    },
    {
      "cell_type": "markdown",
      "metadata": {
        "id": "IMe6fwy4QA5j",
        "colab_type": "text"
      },
      "source": [
        "1. To create a tensor"
      ]
    },
    {
      "cell_type": "code",
      "metadata": {
        "id": "pu2i9RKdKDHa",
        "colab_type": "code",
        "colab": {
          "base_uri": "https://localhost:8080/",
          "height": 68
        },
        "outputId": "ebec033d-0b4b-442a-8ec1-78fb16ad0917"
      },
      "source": [
        "import torch\n",
        "import torch.tensor as tensor\n",
        "t = tensor([[1,2,3],[8,9,4],[7,6,5]])\n",
        "t"
      ],
      "execution_count": null,
      "outputs": [
        {
          "output_type": "execute_result",
          "data": {
            "text/plain": [
              "tensor([[1, 2, 3],\n",
              "        [8, 9, 4],\n",
              "        [7, 6, 5]])"
            ]
          },
          "metadata": {
            "tags": []
          },
          "execution_count": 38
        }
      ]
    },
    {
      "cell_type": "markdown",
      "metadata": {
        "id": "2ydUHJYWQJ7-",
        "colab_type": "text"
      },
      "source": [
        "2. To get element at 1st row, 2nd col:"
      ]
    },
    {
      "cell_type": "code",
      "metadata": {
        "id": "NID_hXj9KSed",
        "colab_type": "code",
        "colab": {
          "base_uri": "https://localhost:8080/",
          "height": 34
        },
        "outputId": "da2a0590-7b7c-47a5-e242-621603ca5110"
      },
      "source": [
        "t[0,1]\n"
      ],
      "execution_count": null,
      "outputs": [
        {
          "output_type": "execute_result",
          "data": {
            "text/plain": [
              "tensor(2)"
            ]
          },
          "metadata": {
            "tags": []
          },
          "execution_count": 39
        }
      ]
    },
    {
      "cell_type": "markdown",
      "metadata": {
        "id": "RfNS94k-QVUw",
        "colab_type": "text"
      },
      "source": [
        "3. To get elements at (1st row, 2nd col) and (3rd row, 1st col):"
      ]
    },
    {
      "cell_type": "code",
      "metadata": {
        "id": "cWIV8zowQYOi",
        "colab_type": "code",
        "colab": {
          "base_uri": "https://localhost:8080/",
          "height": 34
        },
        "outputId": "ba5a0660-60d9-42cb-df83-f2a151e23f4a"
      },
      "source": [
        "t[[0,2],[1,0]]"
      ],
      "execution_count": null,
      "outputs": [
        {
          "output_type": "execute_result",
          "data": {
            "text/plain": [
              "tensor([2, 7])"
            ]
          },
          "metadata": {
            "tags": []
          },
          "execution_count": 40
        }
      ]
    },
    {
      "cell_type": "markdown",
      "metadata": {
        "id": "zYg_2GodQgMX",
        "colab_type": "text"
      },
      "source": [
        "4. To get the largest number:"
      ]
    },
    {
      "cell_type": "code",
      "metadata": {
        "id": "Q48JhOnNOghC",
        "colab_type": "code",
        "colab": {
          "base_uri": "https://localhost:8080/",
          "height": 34
        },
        "outputId": "a94a491f-f14f-45b2-e171-2993ac55ecde"
      },
      "source": [
        "torch.max(t)"
      ],
      "execution_count": null,
      "outputs": [
        {
          "output_type": "execute_result",
          "data": {
            "text/plain": [
              "tensor(9)"
            ]
          },
          "metadata": {
            "tags": []
          },
          "execution_count": 41
        }
      ]
    },
    {
      "cell_type": "markdown",
      "metadata": {
        "id": "qL8LPvG4Qp75",
        "colab_type": "text"
      },
      "source": [
        "5. To get largest values and corresponding indices along 1st axis:"
      ]
    },
    {
      "cell_type": "code",
      "metadata": {
        "id": "gx3agVavO1bO",
        "colab_type": "code",
        "colab": {
          "base_uri": "https://localhost:8080/",
          "height": 34
        },
        "outputId": "55bafee0-cf83-4632-d9fb-63e078fd6b40"
      },
      "source": [
        "torch.max(t, axis = 0)"
      ],
      "execution_count": null,
      "outputs": [
        {
          "output_type": "execute_result",
          "data": {
            "text/plain": [
              "torch.return_types.max(values=tensor([8, 9, 5]), indices=tensor([1, 1, 2]))"
            ]
          },
          "metadata": {
            "tags": []
          },
          "execution_count": 42
        }
      ]
    },
    {
      "cell_type": "markdown",
      "metadata": {
        "id": "4kepvgO8RAg-",
        "colab_type": "text"
      },
      "source": [
        "\n",
        "> Note: From the example above, you can see torch.max return a *namedtuple (values, indices)*, where *values* contains the maximum number along the given axis. And *indices* contain the indices location of each maximum value found (argmax). Thus, you do not need a different function to get the argmax.\n",
        "\n",
        "\n"
      ]
    },
    {
      "cell_type": "markdown",
      "metadata": {
        "id": "oiQDvrqoTRMs",
        "colab_type": "text"
      },
      "source": [
        "6. To get largest values along 1st axis:"
      ]
    },
    {
      "cell_type": "code",
      "metadata": {
        "id": "kRs-TuulUOYq",
        "colab_type": "code",
        "colab": {
          "base_uri": "https://localhost:8080/",
          "height": 34
        },
        "outputId": "af255ce6-96fb-41e5-9ad9-303e7fe56025"
      },
      "source": [
        "torch.max(t, axis = 0)[0]"
      ],
      "execution_count": null,
      "outputs": [
        {
          "output_type": "execute_result",
          "data": {
            "text/plain": [
              "tensor([8, 9, 5])"
            ]
          },
          "metadata": {
            "tags": []
          },
          "execution_count": 44
        }
      ]
    },
    {
      "cell_type": "markdown",
      "metadata": {
        "id": "X_zwvAVWUTQz",
        "colab_type": "text"
      },
      "source": [
        "7. To get indices of largest values along 1st axis:"
      ]
    },
    {
      "cell_type": "code",
      "metadata": {
        "id": "GWg9_bbcUX--",
        "colab_type": "code",
        "colab": {
          "base_uri": "https://localhost:8080/",
          "height": 34
        },
        "outputId": "2e61cbea-eec5-42cf-f06b-c3270302a406"
      },
      "source": [
        "torch.max(t, axis = 0)[1]"
      ],
      "execution_count": null,
      "outputs": [
        {
          "output_type": "execute_result",
          "data": {
            "text/plain": [
              "tensor([1, 1, 2])"
            ]
          },
          "metadata": {
            "tags": []
          },
          "execution_count": 45
        }
      ]
    },
    {
      "cell_type": "markdown",
      "metadata": {
        "id": "yDLcFWWUUbTo",
        "colab_type": "text"
      },
      "source": [
        "8. To convert torch.tensor to NumPy array:"
      ]
    },
    {
      "cell_type": "code",
      "metadata": {
        "id": "ViTBLMaZUn4r",
        "colab_type": "code",
        "colab": {
          "base_uri": "https://localhost:8080/",
          "height": 68
        },
        "outputId": "03ec4539-f04e-4d4e-d02c-3dd68d055452"
      },
      "source": [
        "t.numpy()"
      ],
      "execution_count": null,
      "outputs": [
        {
          "output_type": "execute_result",
          "data": {
            "text/plain": [
              "array([[1, 2, 3],\n",
              "       [8, 9, 4],\n",
              "       [7, 6, 5]])"
            ]
          },
          "metadata": {
            "tags": []
          },
          "execution_count": 49
        }
      ]
    },
    {
      "cell_type": "markdown",
      "metadata": {
        "id": "69GyNSlLVFDn",
        "colab_type": "text"
      },
      "source": [
        "###    Get familiar with NumPy"
      ]
    },
    {
      "cell_type": "markdown",
      "metadata": {
        "id": "s5k6HOxoVmtp",
        "colab_type": "text"
      },
      "source": [
        "1. Create a numpy array:"
      ]
    },
    {
      "cell_type": "code",
      "metadata": {
        "id": "boIQ-Hi22Jf6",
        "colab_type": "code",
        "colab": {
          "base_uri": "https://localhost:8080/",
          "height": 68
        },
        "outputId": "e609fa2a-0d9a-4091-b0df-dbd78f16d60e"
      },
      "source": [
        "import numpy as np\n",
        "arr = np.array([[1,2,3],[8,9,4],[7,6,5]])\n",
        "arr"
      ],
      "execution_count": null,
      "outputs": [
        {
          "output_type": "execute_result",
          "data": {
            "text/plain": [
              "array([[1, 2, 3],\n",
              "       [8, 9, 4],\n",
              "       [7, 6, 5]])"
            ]
          },
          "metadata": {
            "tags": []
          },
          "execution_count": 51
        }
      ]
    },
    {
      "cell_type": "markdown",
      "metadata": {
        "id": "SoaaXCcL2jLz",
        "colab_type": "text"
      },
      "source": [
        "2. To get element at 1st row, 2nd col:"
      ]
    },
    {
      "cell_type": "code",
      "metadata": {
        "id": "Za-Gi-Bd2tPc",
        "colab_type": "code",
        "colab": {
          "base_uri": "https://localhost:8080/",
          "height": 34
        },
        "outputId": "73a7d517-8050-4a78-bdf8-ae3d8c0cb4d3"
      },
      "source": [
        "arr[0,1]"
      ],
      "execution_count": null,
      "outputs": [
        {
          "output_type": "execute_result",
          "data": {
            "text/plain": [
              "2"
            ]
          },
          "metadata": {
            "tags": []
          },
          "execution_count": 52
        }
      ]
    },
    {
      "cell_type": "markdown",
      "metadata": {
        "id": "1WFiMf2U2zS-",
        "colab_type": "text"
      },
      "source": [
        "3. To get elements at (1st row, 2nd col) and (3rd row, 1st col):"
      ]
    },
    {
      "cell_type": "code",
      "metadata": {
        "id": "51FS9adl3EMP",
        "colab_type": "code",
        "colab": {
          "base_uri": "https://localhost:8080/",
          "height": 34
        },
        "outputId": "670adf0a-ba34-4a10-a4fe-fa0fae6d844d"
      },
      "source": [
        "arr[[0,2],[1,0]]"
      ],
      "execution_count": null,
      "outputs": [
        {
          "output_type": "execute_result",
          "data": {
            "text/plain": [
              "array([2, 7])"
            ]
          },
          "metadata": {
            "tags": []
          },
          "execution_count": 53
        }
      ]
    },
    {
      "cell_type": "markdown",
      "metadata": {
        "id": "qqZH2MQI5S_C",
        "colab_type": "text"
      },
      "source": [
        "4. To get max numbers in a along 1st axis:"
      ]
    },
    {
      "cell_type": "code",
      "metadata": {
        "id": "B44B1RuW3e3c",
        "colab_type": "code",
        "colab": {
          "base_uri": "https://localhost:8080/",
          "height": 34
        },
        "outputId": "a7f91d5d-a043-4171-9019-af8907ba7574"
      },
      "source": [
        "np.max(arr, axis = 0)"
      ],
      "execution_count": null,
      "outputs": [
        {
          "output_type": "execute_result",
          "data": {
            "text/plain": [
              "array([8, 9, 5])"
            ]
          },
          "metadata": {
            "tags": []
          },
          "execution_count": 57
        }
      ]
    },
    {
      "cell_type": "markdown",
      "metadata": {
        "id": "UxwcGufG5NzO",
        "colab_type": "text"
      },
      "source": [
        "5. To get the indices of max numbers in a along 1st axis:"
      ]
    },
    {
      "cell_type": "code",
      "metadata": {
        "id": "oOx8WAE03rQm",
        "colab_type": "code",
        "colab": {
          "base_uri": "https://localhost:8080/",
          "height": 34
        },
        "outputId": "00b1a17c-2060-43e3-c9dd-1c56b13e23e2"
      },
      "source": [
        "np.argmax(arr, axis=0)"
      ],
      "execution_count": null,
      "outputs": [
        {
          "output_type": "execute_result",
          "data": {
            "text/plain": [
              "array([1, 1, 2])"
            ]
          },
          "metadata": {
            "tags": []
          },
          "execution_count": 59
        }
      ]
    },
    {
      "cell_type": "markdown",
      "metadata": {
        "id": "wcEroFzKaeP2",
        "colab_type": "text"
      },
      "source": [
        "Although some people are more comfortable using numpy array, sometimes we should not convert torch.tensor to numpy array, because torch.tensor has an attribute *grad* which keeps track of gradients for the tensor and is used to update our Q function(We will mention this later); converting it to numpy would lose gradient information"
      ]
    }
  ]
}