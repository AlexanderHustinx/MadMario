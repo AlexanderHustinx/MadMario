{
  "nbformat": 4,
  "nbformat_minor": 0,
  "metadata": {
    "colab": {
      "name": "tutorial.ipynb",
      "provenance": [],
      "collapsed_sections": [],
      "toc_visible": true,
      "include_colab_link": true
    },
    "kernelspec": {
      "name": "python3",
      "display_name": "Python 3"
    }
  },
  "cells": [
    {
      "cell_type": "markdown",
      "metadata": {
        "id": "view-in-github",
        "colab_type": "text"
      },
      "source": [
        "<a href=\"https://colab.research.google.com/github/YuansongFeng/MadMario/blob/master/tutorial.ipynb\" target=\"_parent\"><img src=\"https://colab.research.google.com/assets/colab-badge.svg\" alt=\"Open In Colab\"/></a>"
      ]
    },
    {
      "cell_type": "markdown",
      "metadata": {
        "id": "ZdoL_As2yKf9",
        "colab_type": "text"
      },
      "source": [
        "Pre-MVP tutorial for walking users through building a learning Mario. Guidelines for creating this notebook (feel free to add/edit):\n",
        "1. Extensive explanation (link to AI cheatsheet where necessary) \n",
        "2. Only ask for core logics\n"
      ]
    },
    {
      "cell_type": "code",
      "metadata": {
        "id": "SseXTspseRAj",
        "colab_type": "code",
        "colab": {
          "base_uri": "https://localhost:8080/",
          "height": 71
        },
        "outputId": "dfba6a05-bf13-4c83-bff0-e43d68cfcd1f"
      },
      "source": [
        "!pip install gym pyvirtualdisplay > /dev/null \n",
        "!apt-get install -y xvfb python-opengl ffmpeg > /dev/null \n",
        "!pip install gym-super-mario-bros==7.3.0 > /dev/null "
      ],
      "execution_count": null,
      "outputs": [
        {
          "output_type": "stream",
          "text": [
            "\u001b[31mERROR: nes-py 8.1.4 has requirement pyglet>=1.5.5, but you'll have pyglet 1.5.0 which is incompatible.\u001b[0m\n",
            "\u001b[31mERROR: gym 0.17.2 has requirement pyglet<=1.5.0,>=1.4.0, but you'll have pyglet 1.5.7 which is incompatible.\u001b[0m\n"
          ],
          "name": "stdout"
        }
      ]
    },
    {
      "cell_type": "code",
      "metadata": {
        "id": "9pp2iiMw4JkH",
        "colab_type": "code",
        "colab": {}
      },
      "source": [
        "from IPython.display import HTML\n",
        "from IPython import display as ipythondisplay\n",
        "import glob\n",
        "import io\n",
        "import base64\n",
        "\n",
        "from pyvirtualdisplay import Display\n",
        "display = Display(visible=0, size=(1400, 900))\n",
        "display.start()\n",
        "\n",
        "\"\"\"\n",
        "Utility functions to enable video recording of gym environment and displaying it\n",
        "To enable video, just do \"env = wrap_env(env)\"\"\n",
        "\"\"\"\n",
        "\n",
        "def show_video():\n",
        "  mp4list = glob.glob('video/*.mp4')\n",
        "  if len(mp4list) > 0:\n",
        "    mp4 = mp4list[0]\n",
        "    video = io.open(mp4, 'r+b').read()\n",
        "    encoded = base64.b64encode(video)\n",
        "    ipythondisplay.display(HTML(data='''<video alt=\"test\" autoplay \n",
        "                loop controls style=\"height: 400px;\">\n",
        "                <source src=\"data:video/mp4;base64,{0}\" type=\"video/mp4\" />\n",
        "             </video>'''.format(encoded.decode('ascii'))))\n",
        "  else: \n",
        "    print(\"Could not find video\")\n",
        "    "
      ],
      "execution_count": null,
      "outputs": []
    },
    {
      "cell_type": "markdown",
      "metadata": {
        "id": "UQ4hh1rNclV9",
        "colab_type": "text"
      },
      "source": [
        "# Welcome to Mad Mario! \n",
        "\n",
        "We put together this project to walk you through fundamentals of reinforcement learning. Along the project, you will implement a smart Mario that learns to complete levels on itself. To begin with, you don't need to know anything about reinforcement learning. In case you wanna peek ahead, here is a [cheatsheet on RL basics](https://drive.google.com/file/d/1qwyemCX7o37OLbSky7Kkufg_YViWwL-g/view?usp=sharing) that we will refer to throughout the project. At the end of the tutorial, you will gain a solid understanding of RL fundamentals and implement a classic RL algorithm, Q-learning, on yourself. \n",
        "\n",
        "\n",
        "It's recommended that you have familiarity with Python and high school level of math/stats background -- that said, don't worry if memory is blurry. Just leave comments anywhere you feel confused, and we will explain the section in more details. "
      ]
    },
    {
      "cell_type": "markdown",
      "metadata": {
        "id": "k6IAcrfyegjL",
        "colab_type": "text"
      },
      "source": [
        "## Let's get started! \n",
        "\n",
        "First thing first, let's look at what we will build: Just like when we first try the game, Mario enters the game not knowing anything about the game. It makes random action just to understand the game better. Each failure experience adds to Mario's memory, and as failure accumulates, Mario starts to recognize the better action to take in a particular scenario. Eventually Mario learns a good strategy and completes the level. \n",
        "\n",
        "Let's put the story into pseudo code.\n",
        "\n",
        "```\n",
        "for a total of N episodes:\n",
        "  for a total of M steps in each episode:\n",
        "    Mario makes an action\n",
        "    Game gives a feedback \n",
        "    Mario remembers the action and feedback\n",
        "    after building up some experiences:\n",
        "      Mario learns from experiences   \n",
        "```\n",
        "\n"
      ]
    },
    {
      "cell_type": "markdown",
      "metadata": {
        "id": "kZzxAwU4f1-H",
        "colab_type": "text"
      },
      "source": [
        "In RL terminology: agent (Mario) interacts with environment (Game) by choosing actions, and environment responds with reward and next state. Based on the collected (state, action, reward) information, agent learns to maximize its future return by optimizing its action policy. \n",
        "\n",
        "While these terms may sound scary, in a short while they will all make sense. It'd be helpful to review the [cheatsheet](https://drive.google.com/file/d/1qwyemCX7o37OLbSky7Kkufg_YViWwL-g/view?usp=sharing), before we start coding. \n",
        "\n"
      ]
    },
    {
      "cell_type": "markdown",
      "metadata": {
        "id": "WgK3jHa65bW9",
        "colab_type": "text"
      },
      "source": [
        "# Environment\n",
        "Environment is a key concept in reinforcement learning. It's the world that Mario interacts with and learns from. Environment is characterized by state (cheatsheet). In Mario, this is the game console consisting of tubes, mushrooms and other components. When Mario makes an action, environment responds with a reward (cheatsheet) and the next state (cheatsheet).  \n",
        "\n",
        "\n",
        "To run Mario envirioment, do\n",
        "\n",
        "\n",
        "\n",
        "\n"
      ]
    },
    {
      "cell_type": "code",
      "metadata": {
        "id": "Yt3eAj6PC0nl",
        "colab_type": "code",
        "colab": {
          "base_uri": "https://localhost:8080/",
          "height": 421
        },
        "outputId": "c1521c60-23ec-451b-e538-4b91755046ad"
      },
      "source": [
        "import gym_super_mario_bros\n",
        "from gym.wrappers import Monitor\n",
        "from nes_py.wrappers import JoypadSpace\n",
        "\n",
        "\n",
        "env = gym_super_mario_bros.make('SuperMarioBros-1-1-v0')\n",
        "env = JoypadSpace(\n",
        "    env,\n",
        "    [['right'],\n",
        "     ['left'],\n",
        "    ['right', 'A'],\n",
        "    ['left', 'A']]\n",
        "    )\n",
        "env = Monitor(env, './video', force=True, mode = 'evaluation')\n",
        "env.reset()\n",
        "for _ in range(1000):\n",
        "  # render game output\n",
        "  env.render()\n",
        "\n",
        "  # choose random action\n",
        "  action = env.action_space.sample()\n",
        "\n",
        "  # perform action on environment, environment provides feedback \n",
        "  # with env.step() function\n",
        "  env.step(action=action)\n",
        "\n",
        "env.close()\n",
        "\n",
        "show_video()"
      ],
      "execution_count": null,
      "outputs": [
        {
          "output_type": "display_data",
          "data": {
            "text/html": [
              "<video alt=\"test\" autoplay \n",
              "                loop controls style=\"height: 400px;\">\n",
              "                <source src=\"data:video/mp4;base64,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\" type=\"video/mp4\" />\n",
              "             </video>"
            ],
            "text/plain": [
              "<IPython.core.display.HTML object>"
            ]
          },
          "metadata": {
            "tags": []
          }
        }
      ]
    },
    {
      "cell_type": "markdown",
      "metadata": {
        "id": "0bN0TFDnCpil",
        "colab_type": "text"
      },
      "source": [
        "## Wrappers\n",
        "\n",
        "Like in supervised machine learning, data preparation is crucial in reinforcement learning. For example, a standard pre-processing step is turning RGB image/videos to grayscale. This compresses input size without losing much information. \n",
        "\n",
        "In the previous section we talked about environment in general. However, in many cases we want to do some pre-processing to the environment and its data before we feed them to the agent. This introduces the idea of a **wrapper**.\n",
        "\n",
        "Like its name suggests, a wrapper wraps around the environment and modifies its methods/data in some generic way. For example, the Mario environment gives you some observations, but you want to accumulate them in some buffer and provide to the agent the N last observations, which is a common scenario for dynamic computer games like Mario, when one single frame is just not enough to get full information about the game state. For a concrete example, we cannot determine if Mario is in a jumping or landing motion from just one frame of environment output. We need some previous frames to have that insight.\n",
        "\n",
        "Another common wrapper is to transform RGB picture frames into Grayscale. It makes sense because as far as the agent is concerned, the outcome of the game or how much reward it collects doesn't change whether he lives in a RGB world or Grayscale world!\n",
        "\n",
        "**before pre-processing**\n",
        "\n",
        "![picture](https://drive.google.com/uc?id=1c9-tUWFyk4u_vNNrkZo1Rg0e2FUcbF3N)\n",
        "<!-- ![picture](https://drive.google.com/uc?id=1s7UewXkmF4g_gZfD7vloH7n1Cr-D3YYX)\n",
        "![picture](https://drive.google.com/uc?id=1mXDt8rFLKT9a-YvhGOgGZT4bq0T2y7iw) -->\n",
        "\n",
        "**after pre-processing**\n",
        "\n",
        "![picture](https://drive.google.com/uc?id=1ED9brgnbPmUZL43Bl_x2FDmXd-hsHBQt)\n",
        "<!-- ![picture](https://drive.google.com/uc?id=1PB1hHSPk6jIhSxVok2u2ntHjvE3zrk7W)\n",
        "![picture](https://drive.google.com/uc?id=1CYm5q71f_OlY_mqvZADuMMjPmcMgbjVW) -->\n",
        "\n",
        "We perform pre-processing on state through environment wrappers. By wrapping `env` like so \n",
        "```\n",
        "env = wrapper(env)\n",
        "```\n",
        "states from environment are transformed into our desired format.  \n",
        "\n",
        "\n",
        "### Instructions\n",
        "\n",
        "We want to apply 3 built-in wrappers to the given `env`, `GrayScaleObservation`, `ResizeObservation`, and `FrameStack`.  \n",
        "\n",
        "https://github.com/openai/gym/tree/master/gym/wrappers\n",
        "\n",
        "\n",
        "`FrameStack` is a wrapper that will allow us to squash consecutive frames of the environment into a single observation point to feed to our learning model. This way, we can differentiate between when Mario was landing or jumping based on his direction of movement in the previous several frames. \n",
        "\n",
        "We can start with the following arguments:\n",
        "`GrayScaleObservation`: keep_dim=False \n",
        "`ResizeObservation`: shape=84 \n",
        "`FrameStack`: num_stack=4 \n",
        "\n",
        "\n"
      ]
    },
    {
      "cell_type": "code",
      "metadata": {
        "id": "9Ib7vjUD5cGy",
        "colab_type": "code",
        "colab": {}
      },
      "source": [
        "from gym.wrappers import FrameStack, GrayScaleObservation, ResizeObservation\n",
        "import gym_super_mario_bros\n",
        "\n",
        "# the original environment object \n",
        "env = gym_super_mario_bros.make('SuperMarioBros-1-1-v0')\n",
        "\n",
        "# TODO wrap the given env with GrayScaleObservation\n",
        "env = None\n",
        "# TODO wrap the given env with ResizeObservation\n",
        "env = None\n",
        "# TODO wrap the given env with FrameStack \n",
        "env = None"
      ],
      "execution_count": null,
      "outputs": []
    },
    {
      "cell_type": "markdown",
      "metadata": {
        "id": "7T5DA19ABgiY",
        "colab_type": "text"
      },
      "source": [
        "## Custom Wrapper\n",
        "\n",
        "We also would like you to get a taste of implementing an environment wrapper on your own, instead of calling off-the-shelf packages. \n",
        "\n",
        "Here is an idea:\n",
        "As an effort of downsizing our model to make training faster, we can choose to skip every n-th frame. In other words, our wrapped environment will only output every n-th frame. Below is a skeleton of the class `SkipFrame`, inherited from `gym.Wrapper`.  Notice in the `__init__` function, the `_skip` field is overriden by the input parameter, default set at 4.\n",
        "\n",
        "However, it is important to accumulate the reward during these skipped steps, because the reward is the most important factor in determining the success of the learning model, so while we can skip frame for dimension reduction purpose, it is crucial we keep adding those rewards to our total reward. \n",
        "\n",
        "\n",
        "### Instruction\n",
        "\n",
        "Implement the reward accumulation function, using your favorite `for` loop.  \n",
        "\n",
        "Here, the custom `SkipFrame` inherits `gym.Wrapper`, the superclass of all wrappers we are going to use. We are going to override its `step()` method, which is basically the endpoint that environment interacts with agent:\n",
        "\n",
        "Given an `action`, env.step() returns a tuple of `next_state(obs), reward, done, info`"
      ]
    },
    {
      "cell_type": "code",
      "metadata": {
        "id": "kpZKyjJVHQBs",
        "colab_type": "code",
        "colab": {}
      },
      "source": [
        "class SkipFrame(gym.Wrapper):\n",
        "    def __init__(self, env, skip=4):\n",
        "        \"\"\"Return only every `skip`-th frame\"\"\"\n",
        "        super().__init__(env)\n",
        "        self._skip = skip\n",
        "\n",
        "    def step(self, action):\n",
        "        \"\"\"Repeat action, and sum reward\"\"\"\n",
        "        total_reward = 0.0\n",
        "        done = False\n",
        "        for i in range(self._skip):\n",
        "            # TODO accumulate reward and repeat the same action \n",
        "            obs, reward, done, info = None\n",
        "            if done:\n",
        "                break\n",
        "\n",
        "        return obs, total_reward, done, info\n",
        "       \n",
        "env = SkipFrame(env)"
      ],
      "execution_count": null,
      "outputs": []
    },
    {
      "cell_type": "markdown",
      "metadata": {
        "id": "3VUq3afemcj-",
        "colab_type": "text"
      },
      "source": [
        "# Agent\n",
        "\n",
        "Agent is the other core concept in reinforcement learning. It interacts with environemnt by making actions (link to cheatsheet). The agent acts according to its action policy (link to cheatsheet). \n",
        "\n",
        "\n",
        "\n"
      ]
    },
    {
      "cell_type": "markdown",
      "metadata": {
        "id": "1t7f9pit9bu2",
        "colab_type": "text"
      },
      "source": [
        "\n",
        "```\n",
        "Initialize environment\n",
        "While True:\n",
        "  ### agent chooses an action \n",
        "  ### based on current state\n",
        "  agent.act(state)\n",
        "  ### environment provides feedback/reward \n",
        "  ### and state transition\n",
        "  next_state, reward, done, info = env.step(action=action)\n",
        "  state = next_state\n",
        "  if done: \n",
        "    break\n",
        "\n",
        "```"
      ]
    },
    {
      "cell_type": "markdown",
      "metadata": {
        "id": "kmr1axsfHf4Y",
        "colab_type": "text"
      },
      "source": [
        "The agent class, `Mario`, captures Mario's behavior in the game environment. The agent should be able to \n",
        "\n",
        "- Make its decision about next action to take. Mario takes the environment state and acts following its optimal action (link to cheatsheet) \n",
        "\n",
        "- Remember past experiences. Later mario uses these experiences to update its action policy (link to cheatsheet)\n",
        "\n",
        "- Improve action policy over time. Mario updates its action policy following the Q-learning algorithm (link to cheatsheet). "
      ]
    },
    {
      "cell_type": "code",
      "metadata": {
        "id": "2FMfCSqgmv23",
        "colab_type": "code",
        "colab": {}
      },
      "source": [
        "class Mario:\n",
        "    def __init__(self, state_dim, action_dim, max_memory):\n",
        "        pass\n",
        "\n",
        "    def act(self, state):\n",
        "        \"\"\"Given a state, choose an epsilon-greedy action\n",
        "        \"\"\"\n",
        "        pass\n",
        "\n",
        "    def remember(self, experience):\n",
        "        \"\"\"Add the observation to memory\n",
        "        \"\"\"\n",
        "        pass\n",
        "\n",
        "    def learn(self):\n",
        "        \"\"\"Update online action value (Q) function with a batch of experiences\n",
        "        \"\"\"\n",
        "        pass\n"
      ],
      "execution_count": null,
      "outputs": []
    },
    {
      "cell_type": "markdown",
      "metadata": {
        "id": "2QTdoKmKCovs",
        "colab_type": "text"
      },
      "source": [
        "## Initialize\n",
        "Before implementing the core functions, let's define some key parameters. For example, we use *epsilon* in action policy (refer to cheatsheet) to encourage exploration, use *gamma* to calculate discounted future return (link to cheatsheet). \n",
        "\n",
        "eps, float\n",
        "> Random Exploration Prabability. Under some probability, agent does not follow the optimal action policy (cheatsheet), but instead chooses a random actino to explore the environment. A high exploration rate is important at the early stage of learning to ensure proper exploration and not falling to local optima. The exploration rate should decrease as agent improves its policy. \n",
        "\n",
        "> Initialize to 1.0. \n",
        "\n",
        "\n",
        "\n",
        "eps_decay, float\n",
        "\n",
        "> Decay rate of eps. Agent rigorously explores space at the early stage, but gradually reduces its exploration rate to maintain action quality. In the later stage, agent already learns a fairly good policy, so we want it to follow its policy more frequently. Decrease eps by the factor of eps_decay each time the agent acts.\n",
        "\n",
        "> Initialize to 0.99999975. \n",
        "\n",
        "\n",
        "gamma, float\n",
        "> Future reward discount rate. *gamma* serves to make agent give higher weight on the short-term rewards over future reward.\n",
        "\n",
        "> Initialize to 0.9\n",
        "\n",
        "batch_size, int\n",
        "> Number of experiences used to update each time.\n",
        "\n",
        "> Please initialize it to 32\n",
        "\n",
        "state_dim, tuple of int\n",
        "\n",
        "> State space dimension. In Mario, this is 4 consecutive snapshots of the enviroment stacked together, where each snapshot is a 84*84 gray-scale image, so state_dim = (4, 84, 84).\n",
        "\n",
        "action_dim, int\n",
        ">  Action space dimension. In Mario, this is the number of total possible actions. \n",
        "\n",
        "max_memory, int\n",
        "> Size of Mario's memory. The memory is filled with Mario's past experiences. Each experience consists of (state, next_state, action, reward, done). Note we use a *queue* (FIFO) for storing memory. As Mario collects more experiences, old experiences are popped to make room for most recent ones. "
      ]
    },
    {
      "cell_type": "code",
      "metadata": {
        "id": "iKxRwyg8D6gy",
        "colab_type": "code",
        "colab": {}
      },
      "source": [
        "class Mario:\n",
        "    def __init__(self, state_dim, action_dim, max_memory):\n",
        "       # state space dimension\n",
        "      self.state_dim = state_dim\n",
        "      # action space dimension\n",
        "      self.action_dim = action_dim\n",
        "      # replay buffer\n",
        "      self.memory = deque(maxlen=max_memory)\n",
        "      # current step, updated everytime the agent acts\n",
        "      self.step = 0\n",
        "\n",
        "      # TODO: Please initialize other variables as described above\n",
        "      pass\n",
        "    "
      ],
      "execution_count": null,
      "outputs": []
    },
    {
      "cell_type": "markdown",
      "metadata": {
        "id": "_TPviLoSpAg5",
        "colab_type": "text"
      },
      "source": [
        "\n",
        "## Predict Q value\n",
        "\n",
        "*Q(s, a)*, optimal value function of a state-action pair, is the most important function in this project. It's used to both choose optimal action (cheatsheet) and to improve action policy (cheatsheet to q-learning). Let's implement the method `agent.predict()`. \n"
      ]
    },
    {
      "cell_type": "markdown",
      "metadata": {
        "id": "rwoZWE97LJXf",
        "colab_type": "text"
      },
      "source": [
        "### Define Q function\n",
        "\n",
        "As a reminder, `env.step(action)` is the endpoint for which the environment provides feedback to the agent's action. Its output is of type `LazyFrame`, and we need to normalize it into an numpy array before doing any more processing. \n",
        "\n",
        "Because input to *Q(s, a)* is a stack of images(`LazyFrame`), let's use a *convolution neural network(ConvNet)* as our Q function. Instead of passing action together with state into the Q function, we pass only state to the ConvNet, and it would returns a list of real values representing Q values og=f all possible actions. We then choose the specific Q value based on the given action. \n",
        "\n",
        "Let's now look at Q-learning more closely. We use *Q\\*(s, a)* to define both the *TD target* (r + \\gamma max_a Q(s', a')) and current state-action value (Q(s, a)). While mathematically Q(s', a') and Q(s, a) are all the same Q function, in practice we use a separate function to approximate each. This is to prevent the divergence problem during optimization. We use Q_online to represent the Q(s, a) function, and Q_target to represent the Q(s', a') function. Q_online is used to make actual action decision by agent in `agent.act()`. Q_target is used to determine the optimization target for Q_online. \n",
        "\n",
        "### Instructions\n",
        "\n",
        "We have implemented `ConvNet`, a simple convolution neural network, for you. Define `self.online_q` and `self.target_q` as two separate `ConvNet`s. `ConvNet` takes two parameters: input dimension `input_dim` and output dimension `output_dim`. Initialize input dimension with state dimension and output dimension with action dimension. \n",
        "\n",
        "Example:\n",
        "```\n",
        "self.neural_net = ConvNet(input_dim=state_dim, output_dim=action_dim)\n",
        "```"
      ]
    },
    {
      "cell_type": "code",
      "metadata": {
        "id": "1BuvQ1-RpPF0",
        "colab_type": "code",
        "colab": {}
      },
      "source": [
        "class Mario:\n",
        "    def __init__(self, ...):\n",
        "      # TODO: define online action value function\n",
        "      self.online_q = None\n",
        "      # TODO: define target action value function\n",
        "      self.target_q = None"
      ],
      "execution_count": null,
      "outputs": []
    },
    {
      "cell_type": "markdown",
      "metadata": {
        "id": "BY-WQ4_MCvjB",
        "colab_type": "text"
      },
      "source": [
        "### Call Q function\n",
        "\n",
        "### Instruction \n",
        "\n",
        "Q function takes a single input `state`. Depending on the requested model ('online'/'target'), use the corresponding Q functons to calculate Q values of the given `state`. Note the result is Q values for all possible actions. \n",
        "\n",
        "Example:\n",
        "```\n",
        "q_values = q_function(state)\n",
        "```"
      ]
    },
    {
      "cell_type": "code",
      "metadata": {
        "id": "Sc1gXVO6Cv4Q",
        "colab_type": "code",
        "colab": {}
      },
      "source": [
        "class Mario:\n",
        "      def predict(self, state, model):\n",
        "        \"\"\"Given a state, predict Q values of all possible actions using specified model (either online or target)\n",
        "        Input:\n",
        "          state\n",
        "           dimension of (batch_size * state_dim)\n",
        "          model\n",
        "           either 'online' or 'target'\n",
        "        Output\n",
        "          pred_q_values (torch.tensor)\n",
        "            dimension of (batch_size * action_dim), predicted Q values for all possible actions given the state\n",
        "        \"\"\"\n",
        "        # LazyFrame -> np array -> torch tensor\n",
        "        state_float = torch.FloatTensor(np.array(state))\n",
        "        # normalize\n",
        "        state_float = state_float / 255.\n",
        "        \n",
        "        if model == 'online':\n",
        "          # TODO return the predicted Q values using self.online_q\n",
        "          pred_q_values = None\n",
        "        elif model == 'target':\n",
        "          # TODO return the predicted Q values using self.target_q\n",
        "          pred_q_values = None\n",
        "\n",
        "        return pred_q_values"
      ],
      "execution_count": null,
      "outputs": []
    },
    {
      "cell_type": "markdown",
      "metadata": {
        "id": "dU6KQb-AohNS",
        "colab_type": "text"
      },
      "source": [
        "## Act\n",
        "\n",
        "Let's now look at how Mario should `act()` in the environment. \n",
        "\n",
        "Given a state, Mario mostly chooses the action with the highest Q value (cheatsheet to optimal action). There is an *epislon* chance that Mario acts randomly instead, which encourages environment exploration. \n",
        "\n",
        "### Instruction\n",
        "\n",
        "We will now implement `Mario.act()`. Recall that we have defined Q_online above, which we will use here to calculate Q values for all actions given *state*. We then need to select the action that results in largest Q value. We have set up the logic for epsilon-greedy policy, and leave it to you to determine the optimal and random action. \n",
        "\n",
        "Before implementing `Mario.act()`, let's first get used to basic operations on *torch.tensor*, which is the data type returned in `Mario.predict()`\n",
        "     "
      ]
    },
    {
      "cell_type": "markdown",
      "metadata": {
        "id": "yhhV_Sxk2FSQ",
        "colab_type": "text"
      },
      "source": [
        "###    Get familiar with torch.tensor:"
      ]
    },
    {
      "cell_type": "markdown",
      "metadata": {
        "id": "IMe6fwy4QA5j",
        "colab_type": "text"
      },
      "source": [
        "1. To create a tensor"
      ]
    },
    {
      "cell_type": "code",
      "metadata": {
        "id": "pu2i9RKdKDHa",
        "colab_type": "code",
        "colab": {
          "base_uri": "https://localhost:8080/",
          "height": 68
        },
        "outputId": "ebec033d-0b4b-442a-8ec1-78fb16ad0917"
      },
      "source": [
        "import torch\n",
        "import torch.tensor as tensor\n",
        "t = tensor([[1,2,3],[8,9,4],[7,6,5]])\n",
        "t"
      ],
      "execution_count": null,
      "outputs": [
        {
          "output_type": "execute_result",
          "data": {
            "text/plain": [
              "tensor([[1, 2, 3],\n",
              "        [8, 9, 4],\n",
              "        [7, 6, 5]])"
            ]
          },
          "metadata": {
            "tags": []
          },
          "execution_count": 38
        }
      ]
    },
    {
      "cell_type": "markdown",
      "metadata": {
        "id": "2ydUHJYWQJ7-",
        "colab_type": "text"
      },
      "source": [
        "2. To get element at 1st row, 2nd col:"
      ]
    },
    {
      "cell_type": "code",
      "metadata": {
        "id": "NID_hXj9KSed",
        "colab_type": "code",
        "colab": {
          "base_uri": "https://localhost:8080/",
          "height": 34
        },
        "outputId": "da2a0590-7b7c-47a5-e242-621603ca5110"
      },
      "source": [
        "t[0,1]\n"
      ],
      "execution_count": null,
      "outputs": [
        {
          "output_type": "execute_result",
          "data": {
            "text/plain": [
              "tensor(2)"
            ]
          },
          "metadata": {
            "tags": []
          },
          "execution_count": 39
        }
      ]
    },
    {
      "cell_type": "markdown",
      "metadata": {
        "id": "RfNS94k-QVUw",
        "colab_type": "text"
      },
      "source": [
        "3. To get elements at (1st row, 2nd col) and (3rd row, 1st col):"
      ]
    },
    {
      "cell_type": "code",
      "metadata": {
        "id": "cWIV8zowQYOi",
        "colab_type": "code",
        "colab": {
          "base_uri": "https://localhost:8080/",
          "height": 34
        },
        "outputId": "ba5a0660-60d9-42cb-df83-f2a151e23f4a"
      },
      "source": [
        "t[[0,2],[1,0]]"
      ],
      "execution_count": null,
      "outputs": [
        {
          "output_type": "execute_result",
          "data": {
            "text/plain": [
              "tensor([2, 7])"
            ]
          },
          "metadata": {
            "tags": []
          },
          "execution_count": 40
        }
      ]
    },
    {
      "cell_type": "markdown",
      "metadata": {
        "id": "zYg_2GodQgMX",
        "colab_type": "text"
      },
      "source": [
        "4. To get the largest number:"
      ]
    },
    {
      "cell_type": "code",
      "metadata": {
        "id": "Q48JhOnNOghC",
        "colab_type": "code",
        "colab": {
          "base_uri": "https://localhost:8080/",
          "height": 34
        },
        "outputId": "a94a491f-f14f-45b2-e171-2993ac55ecde"
      },
      "source": [
        "torch.max(t)"
      ],
      "execution_count": null,
      "outputs": [
        {
          "output_type": "execute_result",
          "data": {
            "text/plain": [
              "tensor(9)"
            ]
          },
          "metadata": {
            "tags": []
          },
          "execution_count": 41
        }
      ]
    },
    {
      "cell_type": "markdown",
      "metadata": {
        "id": "qL8LPvG4Qp75",
        "colab_type": "text"
      },
      "source": [
        "5. To get largest values and corresponding indices along 1st axis:"
      ]
    },
    {
      "cell_type": "code",
      "metadata": {
        "id": "gx3agVavO1bO",
        "colab_type": "code",
        "colab": {
          "base_uri": "https://localhost:8080/",
          "height": 34
        },
        "outputId": "55bafee0-cf83-4632-d9fb-63e078fd6b40"
      },
      "source": [
        "torch.max(t, axis = 0)"
      ],
      "execution_count": null,
      "outputs": [
        {
          "output_type": "execute_result",
          "data": {
            "text/plain": [
              "torch.return_types.max(values=tensor([8, 9, 5]), indices=tensor([1, 1, 2]))"
            ]
          },
          "metadata": {
            "tags": []
          },
          "execution_count": 42
        }
      ]
    },
    {
      "cell_type": "markdown",
      "metadata": {
        "id": "4kepvgO8RAg-",
        "colab_type": "text"
      },
      "source": [
        "\n",
        "> Note: From the example above, you can see torch.max return a *namedtuple (values, indices)*, where *values* contains the maximum number along the given axis. And *indices* contain the indices location of each maximum value found (argmax). Thus, you do not need a different function to get the argmax.\n",
        "\n",
        "\n"
      ]
    },
    {
      "cell_type": "markdown",
      "metadata": {
        "id": "oiQDvrqoTRMs",
        "colab_type": "text"
      },
      "source": [
        "6. To get largest values along 1st axis:"
      ]
    },
    {
      "cell_type": "code",
      "metadata": {
        "id": "kRs-TuulUOYq",
        "colab_type": "code",
        "colab": {
          "base_uri": "https://localhost:8080/",
          "height": 34
        },
        "outputId": "af255ce6-96fb-41e5-9ad9-303e7fe56025"
      },
      "source": [
        "torch.max(t, axis = 0)[0]"
      ],
      "execution_count": null,
      "outputs": [
        {
          "output_type": "execute_result",
          "data": {
            "text/plain": [
              "tensor([8, 9, 5])"
            ]
          },
          "metadata": {
            "tags": []
          },
          "execution_count": 44
        }
      ]
    },
    {
      "cell_type": "markdown",
      "metadata": {
        "id": "X_zwvAVWUTQz",
        "colab_type": "text"
      },
      "source": [
        "7. To get indices of largest values along 1st axis:"
      ]
    },
    {
      "cell_type": "code",
      "metadata": {
        "id": "GWg9_bbcUX--",
        "colab_type": "code",
        "colab": {
          "base_uri": "https://localhost:8080/",
          "height": 34
        },
        "outputId": "2e61cbea-eec5-42cf-f06b-c3270302a406"
      },
      "source": [
        "torch.max(t, axis = 0)[1]"
      ],
      "execution_count": null,
      "outputs": [
        {
          "output_type": "execute_result",
          "data": {
            "text/plain": [
              "tensor([1, 1, 2])"
            ]
          },
          "metadata": {
            "tags": []
          },
          "execution_count": 45
        }
      ]
    },
    {
      "cell_type": "markdown",
      "metadata": {
        "id": "yDLcFWWUUbTo",
        "colab_type": "text"
      },
      "source": [
        "8. To convert torch.tensor to NumPy array:"
      ]
    },
    {
      "cell_type": "code",
      "metadata": {
        "id": "ViTBLMaZUn4r",
        "colab_type": "code",
        "colab": {
          "base_uri": "https://localhost:8080/",
          "height": 68
        },
        "outputId": "03ec4539-f04e-4d4e-d02c-3dd68d055452"
      },
      "source": [
        "t.numpy()"
      ],
      "execution_count": null,
      "outputs": [
        {
          "output_type": "execute_result",
          "data": {
            "text/plain": [
              "array([[1, 2, 3],\n",
              "       [8, 9, 4],\n",
              "       [7, 6, 5]])"
            ]
          },
          "metadata": {
            "tags": []
          },
          "execution_count": 49
        }
      ]
    },
    {
      "cell_type": "markdown",
      "metadata": {
        "id": "69GyNSlLVFDn",
        "colab_type": "text"
      },
      "source": [
        "###    Get familiar with NumPy"
      ]
    },
    {
      "cell_type": "markdown",
      "metadata": {
        "id": "s5k6HOxoVmtp",
        "colab_type": "text"
      },
      "source": [
        "1. Create a numpy array:"
      ]
    },
    {
      "cell_type": "code",
      "metadata": {
        "id": "boIQ-Hi22Jf6",
        "colab_type": "code",
        "colab": {
          "base_uri": "https://localhost:8080/",
          "height": 68
        },
        "outputId": "e609fa2a-0d9a-4091-b0df-dbd78f16d60e"
      },
      "source": [
        "import numpy as np\n",
        "arr = np.array([[1,2,3],[8,9,4],[7,6,5]])\n",
        "arr"
      ],
      "execution_count": null,
      "outputs": [
        {
          "output_type": "execute_result",
          "data": {
            "text/plain": [
              "array([[1, 2, 3],\n",
              "       [8, 9, 4],\n",
              "       [7, 6, 5]])"
            ]
          },
          "metadata": {
            "tags": []
          },
          "execution_count": 51
        }
      ]
    },
    {
      "cell_type": "markdown",
      "metadata": {
        "id": "SoaaXCcL2jLz",
        "colab_type": "text"
      },
      "source": [
        "2. To get element at 1st row, 2nd col:"
      ]
    },
    {
      "cell_type": "code",
      "metadata": {
        "id": "Za-Gi-Bd2tPc",
        "colab_type": "code",
        "colab": {
          "base_uri": "https://localhost:8080/",
          "height": 34
        },
        "outputId": "73a7d517-8050-4a78-bdf8-ae3d8c0cb4d3"
      },
      "source": [
        "arr[0,1]"
      ],
      "execution_count": null,
      "outputs": [
        {
          "output_type": "execute_result",
          "data": {
            "text/plain": [
              "2"
            ]
          },
          "metadata": {
            "tags": []
          },
          "execution_count": 52
        }
      ]
    },
    {
      "cell_type": "markdown",
      "metadata": {
        "id": "1WFiMf2U2zS-",
        "colab_type": "text"
      },
      "source": [
        "3. To get elements at (1st row, 2nd col) and (3rd row, 1st col):"
      ]
    },
    {
      "cell_type": "code",
      "metadata": {
        "id": "51FS9adl3EMP",
        "colab_type": "code",
        "colab": {
          "base_uri": "https://localhost:8080/",
          "height": 34
        },
        "outputId": "670adf0a-ba34-4a10-a4fe-fa0fae6d844d"
      },
      "source": [
        "arr[[0,2],[1,0]]"
      ],
      "execution_count": null,
      "outputs": [
        {
          "output_type": "execute_result",
          "data": {
            "text/plain": [
              "array([2, 7])"
            ]
          },
          "metadata": {
            "tags": []
          },
          "execution_count": 53
        }
      ]
    },
    {
      "cell_type": "markdown",
      "metadata": {
        "id": "qqZH2MQI5S_C",
        "colab_type": "text"
      },
      "source": [
        "4. To get max numbers in a along 1st axis:"
      ]
    },
    {
      "cell_type": "code",
      "metadata": {
        "id": "B44B1RuW3e3c",
        "colab_type": "code",
        "colab": {
          "base_uri": "https://localhost:8080/",
          "height": 34
        },
        "outputId": "a7f91d5d-a043-4171-9019-af8907ba7574"
      },
      "source": [
        "np.max(arr, axis = 0)"
      ],
      "execution_count": null,
      "outputs": [
        {
          "output_type": "execute_result",
          "data": {
            "text/plain": [
              "array([8, 9, 5])"
            ]
          },
          "metadata": {
            "tags": []
          },
          "execution_count": 57
        }
      ]
    },
    {
      "cell_type": "markdown",
      "metadata": {
        "id": "UxwcGufG5NzO",
        "colab_type": "text"
      },
      "source": [
        "5. To get the indices of max numbers in a along 1st axis:"
      ]
    },
    {
      "cell_type": "code",
      "metadata": {
        "id": "oOx8WAE03rQm",
        "colab_type": "code",
        "colab": {
          "base_uri": "https://localhost:8080/",
          "height": 34
        },
        "outputId": "00b1a17c-2060-43e3-c9dd-1c56b13e23e2"
      },
      "source": [
        "np.argmax(arr, axis=0)"
      ],
      "execution_count": null,
      "outputs": [
        {
          "output_type": "execute_result",
          "data": {
            "text/plain": [
              "array([1, 1, 2])"
            ]
          },
          "metadata": {
            "tags": []
          },
          "execution_count": 59
        }
      ]
    },
    {
      "cell_type": "markdown",
      "metadata": {
        "id": "wcEroFzKaeP2",
        "colab_type": "text"
      },
      "source": [
        "Although some people are more comfortable using numpy array, sometimes we should not convert torch.tensor to numpy array, because torch.tensor has an attribute *grad* which keeps track of gradients for the tensor and is used to update our Q function(We will mention this later); converting it to numpy would lose gradient information"
      ]
    },
    {
      "cell_type": "code",
      "metadata": {
        "id": "JW3W8i2Dpoxm",
        "colab_type": "code",
        "colab": {}
      },
      "source": [
        "class Mario:\n",
        "    def act(self, state):\n",
        "        \"\"\"Given a state, choose an epsilon-greedy action and update value of step\n",
        "        Input\n",
        "          state(np.array) \n",
        "            A single observation of the current state, dimension is (state_dim)\n",
        "        Output\n",
        "          action\n",
        "            An integer representing which action agent will perform\n",
        "        \"\"\"\n",
        "        if np.random.rand() < self.eps:\n",
        "          # TODO: choose a random action from all possible actions (self.action_dim)\n",
        "          pass\n",
        "        else:\n",
        "          # TODO: choose the best action based on self.online_q\n",
        "          pass\n",
        "          \n",
        "        # decrease eps\n",
        "        self.eps *= self.eps_decay\n",
        "        self.eps = max(self.eps_min, self.eps)\n",
        "        # increment step\n",
        "        self.step += 1\n",
        "        return action"
      ],
      "execution_count": null,
      "outputs": []
    },
    {
      "cell_type": "markdown",
      "metadata": {
        "id": "Gyw4YkzkqgpZ",
        "colab_type": "text"
      },
      "source": [
        "## Remember\n",
        "\n",
        "In order to improve policy, Mario need to collect and save past experiences. Each time agent performs an action, it collects an experience which includes the current state, action it performs, the next state after performing the action, the reward it collected, and whether the game is finished or not. We use a Queue structure to save historic experience, consisting of (state, next_state, action, reward, done). We will refer to this Queue as our memory. \n",
        "\n",
        "### Instruction\n",
        "\n",
        "Implement `Mario.remember()` to save the experience to Mario's memory. "
      ]
    },
    {
      "cell_type": "code",
      "metadata": {
        "id": "H488eKESqg59",
        "colab_type": "code",
        "colab": {}
      },
      "source": [
        "class DQNAgent:\n",
        "    def remember(self, experience):\n",
        "        \"\"\"Add the experience to self.memory\n",
        "        Input\n",
        "          experience =  (state, next_state, action, reward, done) tuple\n",
        "        Output\n",
        "            None\n",
        "        \"\"\"\n",
        "        # TODO Add the experience to memory\n",
        "        pass"
      ],
      "execution_count": null,
      "outputs": []
    },
    {
      "cell_type": "markdown",
      "metadata": {
        "id": "SK3j9G7Zq5OC",
        "colab_type": "text"
      },
      "source": [
        "## Learn\n",
        "\n",
        "\n",
        "The entire learning process is based on Q-learning algorithm (cheatsheet). By learning, we mean updating our Q function to better predict the Q value of given state-action pair. Recall that Q_online is the function that we are updating and using to choose actions. Q_target is used to determine the target Q value.  \n",
        "\n",
        "\n",
        "Some key steps to perform:\n",
        "- Experience Sampling: \n",
        "We will sample experiences from memory as the “training set” of the current learning step. \n",
        "\n",
        "\n",
        "- Predicting Online Q Values: \n",
        "We predict Q values for all sampled state-action pairs using Q_online.\n",
        "\n",
        "\n",
        "- Predicting Target Q Values:\n",
        "We predict Q values for all sampled state-action pairs using Q_target and reward. Unlike predicting online Q values, we don't directly calculate the Q value for the state-action pair. Instead we approximate it with the sum of reward and discounted Q value for the next state-action pair (cheatsheet). \n",
        "\n",
        "\n",
        "- Loss between Online and Target Q:\n",
        "In this step, we calculate the loss between predicted online Q values and target Q values. \n",
        "\n",
        "\n",
        "- Update Q_online: \n",
        "Update Q_online to minimize the loss using Adam optimizer. This improves the predicting accuracy of Q_online. \n",
        "\n",
        "\n",
        "Summarizing the above in pseudo code for `Mario.learn()`:\n",
        "\n",
        "```\n",
        "if enough experiences are collected:\n",
        "  sample a batch of experiences\n",
        "  calculate the predicted Q values using Q_online\n",
        "  calculate the target Q values using Q_target and reward\n",
        "  calculate loss between prediction and target Q values\n",
        "  update Q_online based on loss\n",
        "```"
      ]
    },
    {
      "cell_type": "markdown",
      "metadata": {
        "id": "sb3ip_Wgp0l-",
        "colab_type": "text"
      },
      "source": [
        "### Experience Sampling \n",
        "Mario learns by drawing past experiences from its memory. The memory is a queue data structure that stores each individual experience in the format of \n",
        "\n",
        "> state, next_state, action, reward, done\n",
        "\n",
        "Examples of some experiences in Mario's memory:\n",
        "\n",
        "\n",
        "- state: ![pic](https://drive.google.com/uc?id=1D34QpsmJSwHrdzszROt405ZwNY9LkTej)  next_state: ![pic](https://drive.google.com/uc?id=13j2TzRd1SGmFru9KJImZsY9DMCdqcr_J) action: jump reward: 0.0 done: False\n",
        "\n",
        "\n",
        "- state: ![pic](https://drive.google.com/uc?id=1ByUKXf967Z6C9FBVtsn_QRnJTr9w-18v) next_state: ![pic](https://drive.google.com/uc?id=1hmGGVO1cS7N7kdcM99-K3Y2sxrAFd0Oh) action: right reward: -10.0 done: True\n",
        "\n",
        "\n",
        "- state: ![pic](https://drive.google.com/uc?id=10MHERSI6lap79VcZfHtIzCS9qT45ksk-) next_state: ![pic](https://drive.google.com/uc?id=1VFNOwQHGAf9pH_56_w0uRO4WUJTIXG90) action: right reward: -10.0 done: True\n",
        "\n",
        "\n",
        "- state: ![pic](https://drive.google.com/uc?id=1T6CAIMzNxeZlBTUdz3sB8t_GhDFbNdUO) next_state: ![pic](https://drive.google.com/uc?id=1aZlA0EnspQdcSQcVxuVmaqPW_7jT3lfW) action: jump_right reward: 0.0 done: False\n",
        "\n",
        "\n",
        "- state: ![pic](https://drive.google.com/uc?id=1bPRnGRx2c1HJ_0y_EEOFL5GOG8sUBdIo) next_state: ![pic](https://drive.google.com/uc?id=1qtR4qCURBq57UCrmObM6A5-CH26NYaHv) action: right reward: 10.0 done: False\n",
        "\n",
        "State/next_state:\n",
        "Observation at timestep *t*/*t+1*. They are both of type `LazyFrame`. \n",
        "\n",
        "Action:\n",
        "Mario's action during state transition. \n",
        "\n",
        "Reward:\n",
        "Environment's reward during state transition. \n",
        "\n",
        "Done:\n",
        "Boolean indicating if next_state is a terminal state (end of game). Terminal state has a known Q value of 0. \n",
        "\n",
        "\n",
        "## Instruction\n",
        "\n",
        "Sample a batch of experiences from `self.memory` of size `self.batch_size`. \n",
        "\n",
        "Return a tuple of numpy arrays, in the order of (state, next_state, action, reward, done). Each numpy array should have its first dimension equal to `self.batch_size`. \n",
        "\n",
        "To convert a `LazyFrame` to numpy array, do\n",
        "\n",
        "```\n",
        "state_np_array = np.array(state_lazy_frame)\n",
        "```\n",
        "\n",
        " "
      ]
    },
    {
      "cell_type": "code",
      "metadata": {
        "id": "eR3QdqXmhr7G",
        "colab_type": "code",
        "colab": {}
      },
      "source": [
        "class Mario:\n",
        "  def sample_batch(self, batch_size):\n",
        "    \"\"\"\n",
        "    Input\n",
        "      self.memory (FIFO queue)\n",
        "        a queue where each entry has five elements as below\n",
        "        state: LazyFrame of dimension (state_dim)\n",
        "        next_state: LazyFrame of dimension (state_dim)\n",
        "        action: integer, representing the action taken\n",
        "        reward: float, the reward from state to next_state with action\n",
        "        done: boolean, whether state is a terminal state\n",
        "      batch_size (int)\n",
        "        size of the batch to return \n",
        "\n",
        "    Output\n",
        "      state, next_state, action, reward, done (tuple)\n",
        "        a tuple of numpy arrays: state, next_state, action, reward, done\n",
        "        state: numpy array of dimension (batch_size x state_dim)\n",
        "        next_state: numpy array of dimension (batch_size x state_dim)\n",
        "        action: numpy array of dimension (batch_size)\n",
        "        reward: numpy array of dimension (batch_size)\n",
        "        done: numpy array of dimension (batch_size)\n",
        "    \"\"\"\n",
        "    return None, None, None, None, None"
      ],
      "execution_count": null,
      "outputs": []
    },
    {
      "cell_type": "markdown",
      "metadata": {
        "id": "BOALqrSC5VIf",
        "colab_type": "text"
      },
      "source": [
        "### Prediction Q Value\n",
        "\n",
        "The learning process relies on the Q-learning algorithm (cheatsheet). We refer to the calculated Q values using current state-action pair as *prediction Q values*. These are calculated using Q_online. \n",
        "\n",
        "To call Q_online, use our defined `Mario.predict()` above:\n",
        "```\n",
        "q_values = self.predict(state, model='online')\n",
        "```\n",
        "\n",
        "\n",
        "## Instruction\n",
        "\n",
        "For a batch of experiences consisting of states (s) and actions (a), calculate the estimated value for each state-action pair Q(s, a). Return the results in `torch.tensor` format. \n"
      ]
    },
    {
      "cell_type": "code",
      "metadata": {
        "id": "SlJx-LMQmKMk",
        "colab_type": "code",
        "colab": {}
      },
      "source": [
        "class Mario:  \n",
        "  def calculate_prediction_q(state, action):\n",
        "    \"\"\"\n",
        "    Input\n",
        "      state (np.array)\n",
        "        dimension is (batch_size x state_dim), each item is an observation \n",
        "        for the current state \n",
        "      action (np.array)\n",
        "        dimension is (batch_size), each item is an integer representing the \n",
        "        action taken for current state \n",
        "\n",
        "    Output\n",
        "      pred_q (torch.tensor)\n",
        "        dimension of (batch_size), each item is a predicted Q value of the \n",
        "        current state-action pair \n",
        "    \"\"\"\n",
        "    curr_state_q = self.predict(state, model='online')\n",
        "    # TODO select specific Q values based on input actions \n",
        "    curr_state_q = None\n",
        "\n",
        "    return curr_state_q"
      ],
      "execution_count": null,
      "outputs": []
    },
    {
      "cell_type": "markdown",
      "metadata": {
        "id": "qG6efQFg5WCD",
        "colab_type": "text"
      },
      "source": [
        "### Target Q Value\n",
        "\n",
        "We refer to the calculated Q values using current reward and next state-action pair as *target Q values* (cheatsheet). *target Q values* are in the form of \n",
        "\n",
        "> r + γ max Q(s', a')\n",
        "\n",
        "A small caveat is the terminal state, as recorded with the variable `done`, which is 1 when Mario is dead or the game finishes. \n",
        "\n",
        "Hence, we need to make sure we don't keep adding future rewards when \"there is no future\", i.e. when the game reaches terminal state. Since `done` is a boolean, we can multiply `1. - done` with future reward. This way, future reward after the terminal state is not taken into account in our target Q value calculation.\n",
        "\n",
        "The complete *target Q values* are in the form of \n",
        "\n",
        "> r + (1- done)⋅γ max Q(s', a')\n",
        "\n",
        "Q is the Q_target function, r is the current reward, s' is the next state, a' is the next action. Because we don't know what next action will be, we estimate it using next state s' and Q_online. Specifically,\n",
        "\n",
        "> a' = argmax_a Q_online(s', a)\n",
        "\n",
        "Let's calculate *target Q values* now. \n",
        "\n",
        "## Instruction\n",
        "\n",
        "For a batch of experiences consisting of next_states (s') and rewards (r), calculate the target Q values. Note that a' is not explicitly given, so we will need to first obtain that using Q_online and next state s'.\n",
        "\n",
        "Return the results in `torch.tensor` format. "
      ]
    },
    {
      "cell_type": "code",
      "metadata": {
        "id": "xY_yrSjmhsCw",
        "colab_type": "code",
        "colab": {}
      },
      "source": [
        "class Mario:  \n",
        "  def calculate_target_q(next_state, reward):\n",
        "    \"\"\"\n",
        "    Input\n",
        "      next_state (np.array)\n",
        "        dimension is (batch_size x state_dim), each item is an observation \n",
        "        for the next state \n",
        "      reward (np.array)\n",
        "        dimension is (batch_size), each item is a float representing the \n",
        "        reward collected from (state -> next state) transition \n",
        "\n",
        "    Output\n",
        "      target_q (torch.tensor)\n",
        "        dimension of (batch_size), each item is a target Q value of the current\n",
        "        state-action pair, calculated based on reward collected and \n",
        "        estimated Q value for next state\n",
        "    \"\"\"\n",
        "    next_state_q = self.predict(next_state, 'target')\n",
        "\n",
        "    online_q = self.predict(next_state, 'online')\n",
        "    # TODO select the best action at next state based on online Q function\n",
        "    action_idx = None\n",
        "\n",
        "    # TODO calculate target Q values based on action_idx and reward\n",
        "    target_q = None\n",
        "    \n",
        "    return target_q"
      ],
      "execution_count": null,
      "outputs": []
    },
    {
      "cell_type": "markdown",
      "metadata": {
        "id": "Wkq2h_jg5Wn_",
        "colab_type": "text"
      },
      "source": [
        "### Loss\n",
        "\n",
        "Let's now calculate the loss between *prediction Q values* and *target Q values*. Loss is what drives the optimization and updates Q_online to better predict Q values in the future. We will calculate the mean squared loss as:\n",
        "\n",
        "$MSE = \\frac{1}{n}\\sum_{i=0}^n( y_i - \\hat{y}_i)^2$\n",
        "\n",
        "In Pytorch, we can calculate loss between *prediction Q values* and *target Q values* simply using:\n",
        "```\n",
        "loss = nn.functional.mse_loss(pred, target)\n",
        "```\n",
        "\n",
        "## Instruction\n",
        "\n",
        "Given predicted and target Q values for the batch of experiences, return the Mean Squared Error. \n"
      ]
    },
    {
      "cell_type": "code",
      "metadata": {
        "id": "lFnzaTGehsHS",
        "colab_type": "code",
        "colab": {}
      },
      "source": [
        "class Mario:\n",
        "  def calculate_loss(pred_q, target_q):\n",
        "    \"\"\"\n",
        "    Input\n",
        "      pred_q (torch.tensor)\n",
        "        dimension is (batch_size), each item is an observation \n",
        "        for the next state \n",
        "      target_q (torch.tensor)\n",
        "        dimension is (batch_size), each item is a float representing the \n",
        "        reward collected from (state -> next state) transition \n",
        "\n",
        "    Output\n",
        "      loss (torch.tensor)\n",
        "        a single value representing the MSE loss of pred_q and target_q\n",
        "    \"\"\"\n",
        "    return None"
      ],
      "execution_count": null,
      "outputs": []
    },
    {
      "cell_type": "markdown",
      "metadata": {
        "id": "q-vyeniHBsdQ",
        "colab_type": "text"
      },
      "source": [
        "### Update Q_online\n",
        "\n",
        "As the final step to complete `Mario.learn()`, we use Adam optimizer to optimize upon the above calculated `loss`. This updates the parameters inside Q_online function so that prediction Q values are closer to target Q values.  "
      ]
    },
    {
      "cell_type": "code",
      "metadata": {
        "id": "Behu1bxODdrb",
        "colab_type": "code",
        "colab": {}
      },
      "source": [
        "class Mario:\n",
        "  def __init__(self, ...):\n",
        "    # optimizer updates parameters in online_q using backpropagation\n",
        "    self.optimizer = torch.optim.Adam(self.online_q.parameters(), lr=0.00025)\n",
        "\n",
        "  def update_online_q(self, loss):\n",
        "    '''\n",
        "    Input\n",
        "      loss (torch.tensor)\n",
        "        a single value representing the Huber loss of pred_q and target_q\n",
        "      optimizer\n",
        "        optimizer updates parameter in our online_q neural network to reduce\n",
        "        the loss\n",
        "    '''\n",
        "    # update online_q\n",
        "    self.optimizer.zero_grad()\n",
        "    loss.backward()\n",
        "    self.optimizer.step()\n",
        "    \n"
      ],
      "execution_count": null,
      "outputs": []
    },
    {
      "cell_type": "markdown",
      "metadata": {
        "id": "lex52LDkfmJp",
        "colab_type": "text"
      },
      "source": [
        "### Put them Together\n",
        "With all the helper methods implemented, let's revisit our `Mario.learn()` function. \n",
        "\n",
        "### Instructions\n",
        "\n",
        "We've added some logic on checking learning criterion. For the rest, use the helper methods defined above to complete `Mario.learn()` function. "
      ]
    },
    {
      "cell_type": "code",
      "metadata": {
        "id": "acxIouqZflqT",
        "colab_type": "code",
        "colab": {}
      },
      "source": [
        "class Mario:\n",
        "    def learn(self):\n",
        "        \"\"\"Update prediction action value (Q) function with a batch of experiences\n",
        "        \"\"\"\n",
        "        # sync target network\n",
        "        if self.step % self.copy_every == 0:\n",
        "            self.sync_target_q()\n",
        "        # checkpoint model\n",
        "        if self.step % self.save_every == 0:\n",
        "            self.save_model()\n",
        "        # break if burn-in\n",
        "        if self.step < self.burnin:\n",
        "            return\n",
        "        # break if no training\n",
        "        if self.step % self.learn_every != 0:\n",
        "            return\n",
        "\n",
        "        # TODO: sample a batch of experiences from self.memory\n",
        "        state, next_state, action, reward, done = (None, None, None, None, None)\n",
        "\n",
        "        # TODO: calculate prediction Q values for the batch\n",
        "        pred_q = None\n",
        "\n",
        "        # TODO: calculate target Q values for the batch\n",
        "        target_q = None\n",
        "\n",
        "        # TODO: calculate huber loss of target and prediction values\n",
        "        loss = None\n",
        "        \n",
        "        # TODO: update target network\n",
        "        pass\n"
      ],
      "execution_count": null,
      "outputs": []
    },
    {
      "cell_type": "markdown",
      "metadata": {
        "id": "D49CcL-pvKdA",
        "colab_type": "text"
      },
      "source": [
        "## Completed Agent\n",
        "\n",
        "We now have all the key functionlities implemented! Glory is all yours. Here is the completed agent file, revisited. "
      ]
    },
    {
      "cell_type": "code",
      "metadata": {
        "id": "StRaEpPovKli",
        "colab_type": "code",
        "colab": {}
      },
      "source": [
        "from collections import deque\n",
        "import torch\n",
        "import torch.nn as nn\n",
        "import numpy as np\n",
        "import random\n",
        "from neural import ConvNet\n",
        "import pdb\n",
        "\n",
        "class DQNAgent:\n",
        "    def __init__(self, state_dim, action_dim, max_memory, double_q):\n",
        "        # state space dimension\n",
        "        self.state_dim = state_dim\n",
        "        # action space dimension\n",
        "        self.action_dim = action_dim\n",
        "        # replay buffer\n",
        "        self.memory = deque(maxlen=max_memory)\n",
        "        # if double_q, use best action from online_q for next state q value\n",
        "        self.double_q = double_q\n",
        "        # future reward discount rate\n",
        "        self.gamma = 0.9\n",
        "        # initial epsilon(random exploration rate)\n",
        "        self.eps = 1\n",
        "        # final epsilon\n",
        "        self.eps_min = 0.1\n",
        "        # epsilon decay rate\n",
        "        self.eps_decay = 0.99999975\n",
        "        # current step, updated everytime the agent acts\n",
        "        self.step = 0\n",
        "        # number of experiences between updating online q\n",
        "        self.learn_every = 3\n",
        "        # number of experiences to collect before training\n",
        "        # self.burnin = 1e5\n",
        "        self.burnin = 1e2\n",
        "        # number of experiences between updating target q with online q\n",
        "        self.copy_every = 1e4\n",
        "        # number of experiences between saving the current agent\n",
        "        self.save_every = 5e5\n",
        "\n",
        "        # batch size used to update online q\n",
        "        self.batch_size = 32\n",
        "        # online action value function, Q(s, a)\n",
        "        self.online_q = ConvNet(input_dim=state_dim, output_dim=action_dim)\n",
        "        # target action value function, Q'(s, a)\n",
        "        self.target_q = ConvNet(input_dim=state_dim, output_dim=action_dim)\n",
        "        # optimizer\n",
        "        self.optimizer = torch.optim.Adam(self.online_q.parameters(), lr=0.00025)\n",
        "\n",
        "    def predict(self, state, model):\n",
        "        \"\"\"Given a state, predict Q values of all actions\n",
        "        model is either 'online' or 'target'\n",
        "        \"\"\"\n",
        "        state_float = torch.tensor(np.array(state)).float() / 255.\n",
        "        if model == 'online':\n",
        "            return self.online_q(state_float)\n",
        "        if model == 'target':\n",
        "            return self.target_q(state_float)\n",
        "\n",
        "    def act(self, state):\n",
        "        \"\"\"Given a state, choose an epsilon-greedy action\n",
        "        \"\"\"\n",
        "        if np.random.rand() < self.eps:\n",
        "            # random action\n",
        "            action = np.random.randint(low=0, high=self.action_dim)\n",
        "        else:\n",
        "            # policy action\n",
        "            q = self.predict(np.expand_dims(state, 0), model='online')\n",
        "            action = torch.max(q, axis=1)[1].item()\n",
        "        # decrease eps\n",
        "        self.eps *= self.eps_decay\n",
        "        self.eps = max(self.eps_min, self.eps)\n",
        "        # increment step\n",
        "        self.step += 1\n",
        "        return action\n",
        "\n",
        "    def remember(self, experience):\n",
        "        \"\"\"Add the observation to memory\n",
        "        \"\"\"\n",
        "        self.memory.append(experience)\n",
        "\n",
        "    def learn(self):\n",
        "        \"\"\"Update online action value (Q) function with a batch of experiences\n",
        "        \"\"\"\n",
        "        # sync target network\n",
        "        if self.step % self.copy_every == 0:\n",
        "            self.sync_target_q()\n",
        "        # checkpoint model\n",
        "        if self.step % self.save_every == 0:\n",
        "            self.save_model()\n",
        "        # break if burn-in\n",
        "        if self.step < self.burnin:\n",
        "            return\n",
        "        # break if no training\n",
        "        if self.step % self.learn_every != 0:\n",
        "            return\n",
        "        # sample batch\n",
        "        batch = random.sample(self.memory, self.batch_size)\n",
        "        state, next_state, action, reward, done = map(np.array, zip(*batch))\n",
        "        # get next q values from target_q\n",
        "        next_q = self.predict(next_state, 'target')\n",
        "        # calculate discounted future reward\n",
        "        if self.double_q:\n",
        "            q = self.predict(next_state, 'online')\n",
        "            q_idx = torch.max(q, axis=1)[1]\n",
        "            target_q = torch.tensor(reward) + torch.tensor(1. - done) * self.gamma * next_q[np.arange(0, self.batch_size), q_idx]\n",
        "        else:\n",
        "            target_q = torch.tensor(reward) + torch.tensor(1. - done) * self.gamma * torch.max(next_q, axis=1)[0]\n",
        "        # get predicted q values from online_q and actions taken\n",
        "        curr_q = self.predict(state, 'online')\n",
        "        pred_q = curr_q[np.arange(0, self.batch_size), action]\n",
        "        # huber loss\n",
        "        loss = nn.functional.mse_loss(pred_q, target_q)\n",
        "        # update online_q\n",
        "        self.optimizer.zero_grad()\n",
        "        loss.backward()\n",
        "        self.optimizer.step()\n",
        "\n",
        "\n",
        "    def save_model(self):\n",
        "        \"\"\"Save the current agent\n",
        "        \"\"\"\n",
        "        return\n",
        "\n",
        "    def sync_target_q(self):\n",
        "        \"\"\"Update target action value (Q) function with online action value (Q) function\n",
        "        \"\"\"\n",
        "        self.target_q.load_state_dict(self.online_q.state_dict())"
      ],
      "execution_count": null,
      "outputs": []
    },
    {
      "cell_type": "markdown",
      "metadata": {
        "id": "HwxsUgYe9_8B",
        "colab_type": "text"
      },
      "source": [
        "# Start Learning! \n",
        "\n",
        "With the agent and environment wrappers implemented, we are ready to put Mario in the game and start learning! We will wrap the learning process in a big `for` loop that repeats the process of acting, remembering and learning by Mario. \n",
        "\n",
        "The meat of the algorithm is in the loop, let's take a closer look: \n",
        "\n",
        "### Instruction\n",
        "\n",
        "1.At the beginning of a new episode, we need to reinitialize the `state` by calling `env.reset()`\n",
        "\n",
        "2.Then we need several variables to hold the logging information we collected in this episode:\n",
        "\n",
        "`ep_reward`: reward collected in this episode\n",
        "\n",
        "`ep_num_steps`: total number of actions perforemed in this episode\n",
        "    \n",
        "`ep_total_loss`: total loss collected in this episode\n",
        "\n",
        "`ep_total_q`: total loss collected in this episode\n",
        "\n",
        "`ep_learn_length`: used for mean loss/q_value\n",
        "\n",
        "\n",
        "3.Now we are inside the while loop that plays the game, and we can call `env.render()` to display the visual\n",
        "\n",
        "4.We want to apply the action policy on the current state by calling `agent.act`, remember action policy  $pi$ characterizes how the agent reacts to environment.\n",
        "\n",
        "5.Then after the agent performs the action, the environment will ouput its feedback, including information such as next state, reward, if Mario is dead(`done`), and some other info. Calling `env.step` with the agent's action should do the trick.\n",
        "\n",
        "6.Agent needs to remember the experience in this action he takes in this state, call `agent.remember` using all the environment output from the step above.\n",
        "\n",
        "7.Call `agent.learn`\n",
        "\n",
        "8.Update logging info\n",
        "\n",
        "9.Update state to get the evironment ready for the next interation of agent-environment/action-reward interactions\n"
      ]
    },
    {
      "cell_type": "code",
      "metadata": {
        "id": "4boS5vr4-AJ2",
        "colab_type": "code",
        "colab": {}
      },
      "source": [
        "### for Loop that train the model num_episodes times by playing the game\n",
        "\n",
        "for e in range(num_episodes):\n",
        "\n",
        "    # 1. Reset env/restart the game\n",
        "    state = None\n",
        "\n",
        "    # 2. Logging\n",
        "    ep_reward = 0.0\n",
        "    ep_length = 0\n",
        "    ep_total_loss = 0.0\n",
        "    ep_total_q = 0.0\n",
        "    ep_learn_length = 1 # used for mean loss/q_value\n",
        "\n",
        "    # Play the game!\n",
        "    while True:\n",
        "\n",
        "        # 3. Show environment (the visual)\n",
        "\n",
        "        # 4. Run agent on the state\n",
        "        action = None\n",
        "\n",
        "        # 5. Agent performs action\n",
        "        next_state, reward, done, info = None\n",
        "\n",
        "        # 6. Remember\n",
        "        agent.remember(experience=(None,None,None,None))\n",
        "\n",
        "        # 7.Learn (conditional) (80% time cost)\n",
        "        q_value, loss = None\n",
        "\n",
        "        # 8.Logging\n",
        "        ep_reward += reward\n",
        "        ep_length += 1\n",
        "        if q_value and loss:\n",
        "            ep_total_loss += loss\n",
        "            ep_total_q += q_value\n",
        "            ep_learn_length += 1\n",
        "\n",
        "        # Update state\n",
        "        state = None\n",
        "\n",
        "        # If done break loop\n",
        "        if done or info['flag_get']:\n",
        "            break"
      ],
      "execution_count": null,
      "outputs": []
    },
    {
      "cell_type": "markdown",
      "metadata": {
        "id": "DB4N7gPXpp0x",
        "colab_type": "text"
      },
      "source": [
        "\n",
        "\n",
        "Below is the fully functional `main` class, we added logging info that will help keep track of the status of the training. \n",
        "\n",
        "We have helped you initialize and applied the wrappers for the environment for you, and we also initialized the agent.\n",
        "\n",
        "In addition, we also added model saving functionality for you so that you can replay the model you trained."
      ]
    },
    {
      "cell_type": "code",
      "metadata": {
        "id": "gFXMe9N4pxyX",
        "colab_type": "code",
        "colab": {}
      },
      "source": [
        "from nes_py.wrappers import JoypadSpace\n",
        "import gym_super_mario_bros\n",
        "import numpy as np\n",
        "import pdb\n",
        "import time\n",
        "# original environment\n",
        "env = gym_super_mario_bros.make('SuperMarioBros-1-1-v0')\n",
        "\n",
        "# define action space on the environment:\n",
        "# NOOP: no action\n",
        "# right: walk right\n",
        "# right, A: jump right\n",
        "# right, B: run right\n",
        "env = JoypadSpace(\n",
        "    env,\n",
        "    [['right'],\n",
        "    ['right', 'A']]\n",
        "    )\n",
        "\n",
        "## apply environment wrappers\n",
        "env = apply_wrappers_to_env(env)\n",
        "\n",
        "# After applying environment wrappers, observation space (a.k.a state_dim) shrinks from\n",
        "# 240 (height) x 256 (width) x 3 (RGB color channels) \n",
        "# to \n",
        "# 4 (#frames) x 84 (height) x 84 (width)\n",
        "\n",
        "# dimensional parameters after reshaping\n",
        "state_dim = (4,84,84)\n",
        "action_dim = env.action_space.n\n",
        "\n",
        "# Intialize agent\n",
        "agent = DQNAgent(state_dim=state_dim, action_dim=action_dim, max_memory=100000, double_q=True)\n",
        "\n",
        "# Logs\n",
        "log = {\n",
        "    \"rewards\": [],\n",
        "    \"lengths\": [],\n",
        "    \"losses\": [],\n",
        "    \"q_values\": []\n",
        "}\n",
        "log_file = os.path.join(agent.save_dir, \"log.txt\")\n",
        "\n",
        "# Timing\n",
        "start = time.time()\n",
        "step = 0\n",
        "\n",
        "# number of episodes\n",
        "num_episodes = 10000\n",
        "\n",
        "# Main training loop\n",
        "for e in range(num_episodes):\n",
        "\n",
        "    # 1. Reset env/restart the game\n",
        "    state = None\n",
        "\n",
        "    # 2. Logging\n",
        "    ep_reward = 0.0\n",
        "    ep_length = 0\n",
        "    ep_total_loss = 0.0\n",
        "    ep_total_q = 0.0\n",
        "    ep_learn_length = 1 # used for mean loss/q_value\n",
        "\n",
        "    # Play the game!\n",
        "    while True:\n",
        "\n",
        "        # 3. Show environment (the visual)\n",
        "\n",
        "        # 4. Run agent on the state\n",
        "        action = None\n",
        "\n",
        "        # 5. Agent performs action\n",
        "        next_state, reward, done, info = None\n",
        "\n",
        "        # 6. Remember\n",
        "        agent.remember(experience=(None,None,None,None))\n",
        "\n",
        "        # 7.Learn (conditional) (80% time cost)\n",
        "        q_value, loss = None\n",
        "\n",
        "        # 8.Logging\n",
        "        ep_reward += reward\n",
        "        ep_length += 1\n",
        "        if q_value and loss:\n",
        "            ep_total_loss += loss\n",
        "            ep_total_q += q_value\n",
        "            ep_learn_length += 1\n",
        "\n",
        "        # Update state\n",
        "        state = None\n",
        "\n",
        "        # If done break loop\n",
        "        if done or info['flag_get']:\n",
        "            break\n",
        "\n",
        "    # Log info in this episode\n",
        "    log[\"rewards\"].append(ep_reward)\n",
        "    log[\"lengths\"].append(ep_length)\n",
        "    log[\"losses\"].append(np.round(ep_total_loss/ep_learn_length, 5))\n",
        "    log[\"q_values\"].append(np.round(ep_total_q/ep_learn_length, 5))\n",
        "\n",
        "    # Print & Log every 50th episode\n",
        "    if e % 50 == 0:\n",
        "        mean_reward = np.round(np.mean(log['rewards'][-100:]), 3)\n",
        "        mean_length = np.round(np.mean(log['lengths'][-100:]), 3)\n",
        "        mean_loss = np.round(np.mean(log['losses'][-100:]), 3)\n",
        "        mean_q_value = np.round(np.mean(log['q_values'][-100:]), 3)\n",
        "        eps = np.round(agent.eps, 3)\n",
        "        step_time = np.round((time.time() - start_time)/(agent.step - start_step), 3)\n",
        "        start_time = time.time()\n",
        "        start_step = agent.step\n",
        "        print(\n",
        "            f\"Episode {e} - \"\n",
        "            f\"Step {agent.step} - \"\n",
        "            f\"Step Time {step_time} - \"\n",
        "            f\"Epsilon {eps} - \"\n",
        "            f\"Mean Reward {mean_reward} - \"\n",
        "            f\"Mean Length {mean_length} - \"\n",
        "            f\"Mean Loss {mean_loss} - \"\n",
        "            f\"Mean Q Value {mean_q_value} - \"\n",
        "            f\"Time {datetime.datetime.now().strftime('%Y-%m-%dT%H:%M:%S')}\"\n",
        "        )\n",
        "\n",
        "        with open(log_file, \"a\") as f:\n",
        "            f.write(\n",
        "                f\"{e:8d}{agent.step:10d}{eps:10.3f}\"\n",
        "                f\"{mean_reward:15.3f}{mean_length:15.3f}{mean_loss:15.3f}{mean_q_value:15.3f}\"\n",
        "                f\"{datetime.datetime.now().strftime('%Y-%m-%dT%H:%M:%S'):>20}\\n\"\n",
        "            )\n",
        "\n",
        "        # Running on Colab, download checkpoints to local\n",
        "        if 'google.colab' in sys.modules:\n",
        "            from google.colab import files\n",
        "            files.download(os.path.join(agent.save_dir, \"online_q_1.chkpt\"))"
      ],
      "execution_count": null,
      "outputs": []
    },
    {
      "cell_type": "markdown",
      "metadata": {
        "id": "7o7N4mNSQDK8",
        "colab_type": "text"
      },
      "source": [
        "# Discussion\n",
        "\n",
        "One question one might ask why do we want to sample data points from all past experiences rather than the most recent ones(for example, from the previous episode), which are newly trained with higher accuracy. \n",
        "\n",
        "The intuition is behind the tradeoff between these two approaches:\n",
        "\n",
        "Do we want to train on data that are generated from a small-size dataset with relatively high quality or a huge-size dataset with relatively lower quality? \n",
        "\n",
        "The answer is the latter, because the more data we have, the more of a wholistic, comprehensive point of view we have on the overall behavior of the system we have, in our case, the Mario game. Limited size dataset has the danger of overfitting and overlooking bigger pictures of the entire action/state space. \n",
        "\n",
        "\n",
        "Remember, Reinforcement Learning is all about exploring different scenarios(state) and keeping improving based on trial and errors, generated from the interactions between the **agent**(action) and the **environmental feedback**(reward). "
      ]
    }
  ]
}